{
 "cells": [
  {
   "cell_type": "code",
   "execution_count": 1,
   "id": "2a90a652",
   "metadata": {},
   "outputs": [],
   "source": [
    "import pandas as pd\n",
    "import matplotlib.pyplot as plt\n",
    "import seaborn as sns\n",
    "sns.set()"
   ]
  },
  {
   "cell_type": "code",
   "execution_count": 18,
   "id": "5504d89c",
   "metadata": {
    "scrolled": true
   },
   "outputs": [],
   "source": [
    "vm=pd.read_excel('data/voley masculino.xlsx')\n"
   ]
  },
  {
   "cell_type": "code",
   "execution_count": 5,
   "id": "06065627",
   "metadata": {},
   "outputs": [
    {
     "data": {
      "text/html": [
       "<div>\n",
       "<style scoped>\n",
       "    .dataframe tbody tr th:only-of-type {\n",
       "        vertical-align: middle;\n",
       "    }\n",
       "\n",
       "    .dataframe tbody tr th {\n",
       "        vertical-align: top;\n",
       "    }\n",
       "\n",
       "    .dataframe thead th {\n",
       "        text-align: right;\n",
       "    }\n",
       "</style>\n",
       "<table border=\"1\" class=\"dataframe\">\n",
       "  <thead>\n",
       "    <tr style=\"text-align: right;\">\n",
       "      <th></th>\n",
       "      <th>Número De Camiseta</th>\n",
       "      <th>Nombre Del Jugador/A</th>\n",
       "      <th>Equipo</th>\n",
       "      <th>Puntos</th>\n",
       "      <th>Attack Points</th>\n",
       "      <th>Block Points</th>\n",
       "      <th>Serve Points</th>\n",
       "    </tr>\n",
       "  </thead>\n",
       "  <tbody>\n",
       "    <tr>\n",
       "      <th>0</th>\n",
       "      <td>21</td>\n",
       "      <td>Faure Théo</td>\n",
       "      <td>FRA</td>\n",
       "      <td>79</td>\n",
       "      <td>61</td>\n",
       "      <td>12</td>\n",
       "      <td>6</td>\n",
       "    </tr>\n",
       "    <tr>\n",
       "      <th>1</th>\n",
       "      <td>12</td>\n",
       "      <td>Herrera Jaime Jesus</td>\n",
       "      <td>CUB</td>\n",
       "      <td>77</td>\n",
       "      <td>65</td>\n",
       "      <td>7</td>\n",
       "      <td>5</td>\n",
       "    </tr>\n",
       "    <tr>\n",
       "      <th>2</th>\n",
       "      <td>19</td>\n",
       "      <td>Možič Rok</td>\n",
       "      <td>SLO</td>\n",
       "      <td>77</td>\n",
       "      <td>64</td>\n",
       "      <td>7</td>\n",
       "      <td>6</td>\n",
       "    </tr>\n",
       "    <tr>\n",
       "      <th>3</th>\n",
       "      <td>14</td>\n",
       "      <td>Abdel-Aziz Nimir</td>\n",
       "      <td>NED</td>\n",
       "      <td>77</td>\n",
       "      <td>69</td>\n",
       "      <td>2</td>\n",
       "      <td>6</td>\n",
       "    </tr>\n",
       "    <tr>\n",
       "      <th>4</th>\n",
       "      <td>16</td>\n",
       "      <td>Luburic Drazen</td>\n",
       "      <td>SRB</td>\n",
       "      <td>76</td>\n",
       "      <td>71</td>\n",
       "      <td>2</td>\n",
       "      <td>3</td>\n",
       "    </tr>\n",
       "    <tr>\n",
       "      <th>...</th>\n",
       "      <td>...</td>\n",
       "      <td>...</td>\n",
       "      <td>...</td>\n",
       "      <td>...</td>\n",
       "      <td>...</td>\n",
       "      <td>...</td>\n",
       "      <td>...</td>\n",
       "    </tr>\n",
       "    <tr>\n",
       "      <th>157</th>\n",
       "      <td>11</td>\n",
       "      <td>Batak Aleksa</td>\n",
       "      <td>SRB</td>\n",
       "      <td>1</td>\n",
       "      <td>0</td>\n",
       "      <td>1</td>\n",
       "      <td>0</td>\n",
       "    </tr>\n",
       "    <tr>\n",
       "      <th>158</th>\n",
       "      <td>12</td>\n",
       "      <td>Lomacz Grzegorz</td>\n",
       "      <td>POL</td>\n",
       "      <td>1</td>\n",
       "      <td>0</td>\n",
       "      <td>1</td>\n",
       "      <td>0</td>\n",
       "    </tr>\n",
       "    <tr>\n",
       "      <th>159</th>\n",
       "      <td>18</td>\n",
       "      <td>Pothron Antoine</td>\n",
       "      <td>FRA</td>\n",
       "      <td>1</td>\n",
       "      <td>1</td>\n",
       "      <td>0</td>\n",
       "      <td>0</td>\n",
       "    </tr>\n",
       "    <tr>\n",
       "      <th>160</th>\n",
       "      <td>26</td>\n",
       "      <td>Henno Hilir</td>\n",
       "      <td>FRA</td>\n",
       "      <td>1</td>\n",
       "      <td>1</td>\n",
       "      <td>0</td>\n",
       "      <td>0</td>\n",
       "    </tr>\n",
       "    <tr>\n",
       "      <th>161</th>\n",
       "      <td>5</td>\n",
       "      <td>Otsuka Tatsunori</td>\n",
       "      <td>JPN</td>\n",
       "      <td>1</td>\n",
       "      <td>1</td>\n",
       "      <td>0</td>\n",
       "      <td>0</td>\n",
       "    </tr>\n",
       "  </tbody>\n",
       "</table>\n",
       "<p>162 rows × 7 columns</p>\n",
       "</div>"
      ],
      "text/plain": [
       "     Número De Camiseta Nombre Del Jugador/A Equipo  Puntos  Attack Points  \\\n",
       "0                    21           Faure Théo    FRA      79             61   \n",
       "1                    12  Herrera Jaime Jesus    CUB      77             65   \n",
       "2                    19            Možič Rok    SLO      77             64   \n",
       "3                    14     Abdel-Aziz Nimir    NED      77             69   \n",
       "4                    16       Luburic Drazen    SRB      76             71   \n",
       "..                  ...                  ...    ...     ...            ...   \n",
       "157                  11         Batak Aleksa    SRB       1              0   \n",
       "158                  12      Lomacz Grzegorz    POL       1              0   \n",
       "159                  18      Pothron Antoine    FRA       1              1   \n",
       "160                  26          Henno Hilir    FRA       1              1   \n",
       "161                   5     Otsuka Tatsunori    JPN       1              1   \n",
       "\n",
       "     Block Points  Serve Points  \n",
       "0              12             6  \n",
       "1               7             5  \n",
       "2               7             6  \n",
       "3               2             6  \n",
       "4               2             3  \n",
       "..            ...           ...  \n",
       "157             1             0  \n",
       "158             1             0  \n",
       "159             0             0  \n",
       "160             0             0  \n",
       "161             0             0  \n",
       "\n",
       "[162 rows x 7 columns]"
      ]
     },
     "execution_count": 5,
     "metadata": {},
     "output_type": "execute_result"
    }
   ],
   "source": [
    "vm"
   ]
  },
  {
   "cell_type": "code",
   "execution_count": 11,
   "id": "6bf1fd7f",
   "metadata": {},
   "outputs": [
    {
     "data": {
      "text/plain": [
       "Index(['Número De Camiseta', 'Nombre Del Jugador/A', 'Equipo', 'Puntos',\n",
       "       'Attack Points', 'Block Points', 'Serve Points'],\n",
       "      dtype='object')"
      ]
     },
     "execution_count": 11,
     "metadata": {},
     "output_type": "execute_result"
    }
   ],
   "source": [
    "vm.columns\n"
   ]
  },
  {
   "cell_type": "code",
   "execution_count": 9,
   "id": "c7ec2e37",
   "metadata": {},
   "outputs": [
    {
     "name": "stdout",
     "output_type": "stream",
     "text": [
      "El jugador con mas puntos: \n"
     ]
    },
    {
     "data": {
      "text/plain": [
       "Número De Camiseta              99\n",
       "Nombre Del Jugador/A    Štern Žiga\n",
       "Equipo                         USA\n",
       "Puntos                          79\n",
       "Attack Points                   71\n",
       "Block Points                    13\n",
       "Serve Points                     9\n",
       "dtype: object"
      ]
     },
     "execution_count": 9,
     "metadata": {},
     "output_type": "execute_result"
    }
   ],
   "source": [
    "print('El jugador con mas puntos: ')\n",
    "vm.max()"
   ]
  },
  {
   "cell_type": "code",
   "execution_count": 10,
   "id": "55910be2",
   "metadata": {},
   "outputs": [
    {
     "name": "stdout",
     "output_type": "stream",
     "text": [
      "El jugador con menos puntos:\n"
     ]
    },
    {
     "data": {
      "text/plain": [
       "Número De Camiseta                     1\n",
       "Nombre Del Jugador/A    Abdel-Aziz Nimir\n",
       "Equipo                               ARG\n",
       "Puntos                                 1\n",
       "Attack Points                          0\n",
       "Block Points                           0\n",
       "Serve Points                           0\n",
       "dtype: object"
      ]
     },
     "execution_count": 10,
     "metadata": {},
     "output_type": "execute_result"
    }
   ],
   "source": [
    "print('El jugador con menos puntos:')\n",
    "vm.min()"
   ]
  },
  {
   "cell_type": "code",
   "execution_count": 49,
   "id": "a27bd7e2",
   "metadata": {},
   "outputs": [
    {
     "data": {
      "text/plain": [
       "0    79\n",
       "1    77\n",
       "2    77\n",
       "3    77\n",
       "4    76\n",
       "5    75\n",
       "6    75\n",
       "7    70\n",
       "8    64\n",
       "9    61\n",
       "Name: Puntos, dtype: int64"
      ]
     },
     "execution_count": 49,
     "metadata": {},
     "output_type": "execute_result"
    }
   ],
   "source": [
    "vm['Puntos'].nlargest(n=10)"
   ]
  },
  {
   "cell_type": "code",
   "execution_count": 26,
   "id": "cc69258b",
   "metadata": {},
   "outputs": [
    {
     "data": {
      "text/plain": [
       "0               Faure Théo\n",
       "1      Herrera Jaime Jesus\n",
       "2                Možič Rok\n",
       "3         Abdel-Aziz Nimir\n",
       "4           Luburic Drazen\n",
       "              ...         \n",
       "157           Batak Aleksa\n",
       "158        Lomacz Grzegorz\n",
       "159        Pothron Antoine\n",
       "160            Henno Hilir\n",
       "161       Otsuka Tatsunori\n",
       "Name: Nombre Del Jugador/A, Length: 162, dtype: object"
      ]
     },
     "execution_count": 26,
     "metadata": {},
     "output_type": "execute_result"
    }
   ],
   "source": [
    "vm['Nombre Del Jugador/A']"
   ]
  },
  {
   "cell_type": "code",
   "execution_count": 54,
   "id": "d0e43a38",
   "metadata": {},
   "outputs": [
    {
     "data": {
      "image/png": "[encoded data removed]",
      "text/plain": [
       "<Figure size 640x480 with 1 Axes>"
      ]
     },
     "metadata": {},
     "output_type": "display_data"
    }
   ],
   "source": [
    "x = vm['Nombre Del Jugador/A']\n",
    "y = vm['Puntos']\n",
    "#Graficamos\n",
    "plt.plot(x,y, color='red', linewidth=2, label='linea')\n",
    "plt.legend()\n",
    "plt.grid()\n",
    "plt.show()"
   ]
  },
  {
   "cell_type": "code",
   "execution_count": null,
   "id": "a49212f3",
   "metadata": {},
   "outputs": [],
   "source": []
  }
 ],
 "metadata": {
  "kernelspec": {
   "display_name": "Python 3 (ipykernel)",
   "language": "python",
   "name": "python3"
  },
  "language_info": {
   "codemirror_mode": {
    "name": "ipython",
    "version": 3
   },
   "file_extension": ".py",
   "mimetype": "text/x-python",
   "name": "python",
   "nbconvert_exporter": "python",
   "pygments_lexer": "ipython3",
   "version": "3.10.11"
  }
 },
 "nbformat": 4,
 "nbformat_minor": 5
}
